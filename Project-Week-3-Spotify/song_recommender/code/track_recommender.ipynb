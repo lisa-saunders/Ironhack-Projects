{
 "cells": [
  {
   "cell_type": "markdown",
   "metadata": {},
   "source": [
    "**Recommend from Top 100 and from Spotify clusters**"
   ]
  },
  {
   "cell_type": "code",
   "execution_count": 2,
   "metadata": {},
   "outputs": [],
   "source": [
    "import pandas as pd\n",
    "import random\n",
    "import numpy as np\n",
    "from config import *\n",
    "import spotipy\n",
    "import json\n",
    "from spotipy.oauth2 import SpotifyClientCredentials\n",
    "import pickle"
   ]
  },
  {
   "cell_type": "code",
   "execution_count": 3,
   "metadata": {},
   "outputs": [],
   "source": [
    "sp = spotipy.Spotify(auth_manager=SpotifyClientCredentials(client_id= Client_ID, client_secret=Client_Secret))"
   ]
  },
  {
   "cell_type": "code",
   "execution_count": 4,
   "metadata": {},
   "outputs": [],
   "source": [
    "top100_df = pd.read_csv(\"../data/top100_df.csv\")\n",
    "spotify_df = pd.read_csv(\"../data/clusters_df.csv\")"
   ]
  },
  {
   "cell_type": "code",
   "execution_count": 5,
   "metadata": {},
   "outputs": [],
   "source": [
    "top100_df = top100_df.apply(lambda x: x.astype(str).str.lower()) #turning dataframes to lower case\n",
    "spotify_df = spotify_df.apply(lambda x: x.astype(str).str.lower())"
   ]
  },
  {
   "cell_type": "code",
   "execution_count": 6,
   "metadata": {},
   "outputs": [],
   "source": [
    "def song_recommendation():\n",
    "\n",
    "    while True:\n",
    "        user_input = input(\"What is the name of your favourite song? \\n\")\n",
    "        user_input = user_input.lower()\n",
    "        \n",
    "        if user_input in top100_df.values:\n",
    "            top100_df.drop(top100_df.loc[top100_df['song_title'] == user_input].index, inplace=True)\n",
    "            song_choice = random.choice(top100_df['song_title'])\n",
    "            suggestion = top100_df.loc[top100_df['song_title'] == song_choice]\n",
    "            artist = (suggestion.loc[suggestion.song_title == song_choice, 'artist'].values[0])\n",
    "            print(\"\\nMaybe you will like:\", song_choice.title(),\n",
    "                  \" by \", artist.title())\n",
    "            print(\"\\nWe hope you like our recommendation!\")\n",
    "            \n",
    "            ask_again = input(\"Would you like another recommendation? Please type 'yes' \")\n",
    "            ask_again = ask_again.lower()\n",
    "            print(\"\")\n",
    "            \n",
    "            if ask_again == \"yes\":\n",
    "                continue\n",
    "            else:\n",
    "                print(\"Thanks for stopping by - see you soon!\")\n",
    "                break\n",
    "            break\n",
    "        \n",
    "        else:\n",
    "            artist_input = input(\"Who is the artist of this song?\\n\")\n",
    "            results = sp.search(q=\"track:\"+user_input+\" artist:\"+artist_input,limit=10)\n",
    "            print(\"searching for\", results['tracks']['items'][0]['name'], \"by\", results['tracks']['items'][0]['artists'][0]['name'])\n",
    "            features = sp.audio_features(results['tracks']['items'][0]['uri'])\n",
    "            features_df = pd.DataFrame(features)\n",
    "            features_df = features_df[['danceability', 'energy', 'key', 'loudness', 'speechiness', 'acousticness', 'instrumentalness', 'liveness', 'valence', 'tempo']]\n",
    "            with open(\"scaler.pickle\", \"rb\") as f: \n",
    "                scaler =  pickle.load(f)\n",
    "            features_array = scaler.transform(features_df)\n",
    "            features_df_transformed = pd.DataFrame(features_array, columns = features_df.columns)\n",
    "            with open(\"kmeans.pickle\", \"rb\") as f:\n",
    "                kmeans = pickle.load(f)\n",
    "            \n",
    "            cluster_song = kmeans.predict(features_df_transformed)[0]\n",
    "            ##print(cluster_song)\n",
    "            \n",
    "            df_float = spotify_df[spotify_df['cluster'] == str(cluster_song)]\n",
    "            song_choice = random.choice(df_float['song_name'].tolist())\n",
    "            suggestion = df_float.loc[spotify_df['song_name'] == song_choice]\n",
    "            artist = (suggestion.loc[suggestion.song_name == song_choice, 'artist_name'].values[0])\n",
    "            print(\"\\nMaybe you will like:\", song_choice.title(),\n",
    "                  \" by \", artist.title())\n",
    "            print(\"\\nWe hope you like our recommendation!\\n\")\n",
    "            \n",
    "            ask_again = input(\"Would you like another recommendation? Please type 'yes' \")\n",
    "            ask_again = ask_again.lower()\n",
    "            print(\"\")\n",
    "            \n",
    "            if ask_again == \"yes\":\n",
    "                continue\n",
    "            else:\n",
    "                print(\"Thanks for stopping by - see you soon!\")\n",
    "                break"
   ]
  },
  {
   "cell_type": "code",
   "execution_count": 7,
   "metadata": {
    "scrolled": true
   },
   "outputs": [
    {
     "name": "stdout",
     "output_type": "stream",
     "text": [
      "What is the name of your favourite song? \n",
      "holocene\n",
      "Who is the artist of this song?\n",
      "bon iver\n",
      "searching for Holocene by Bon Iver\n",
      "\n",
      "Maybe you will like: Blue  by  Joni Mitchell \n",
      "\n",
      "We hope you like our recommendation!\n",
      "\n",
      "Would you like another recommendation? Please type 'yes' yes\n",
      "\n",
      "What is the name of your favourite song? \n",
      "peaches\n",
      "\n",
      "Maybe you will like: Blame On You  by  Rod Wave\n",
      "\n",
      "We hope you like our recommendation!\n"
     ]
    },
    {
     "ename": "KeyboardInterrupt",
     "evalue": "Interrupted by user",
     "output_type": "error",
     "traceback": [
      "\u001b[1;31m---------------------------------------------------------------------------\u001b[0m",
      "\u001b[1;31mKeyboardInterrupt\u001b[0m                         Traceback (most recent call last)",
      "\u001b[1;32m<ipython-input-7-35f94d38256a>\u001b[0m in \u001b[0;36m<module>\u001b[1;34m\u001b[0m\n\u001b[1;32m----> 1\u001b[1;33m \u001b[0msong_recommendation\u001b[0m\u001b[1;33m(\u001b[0m\u001b[1;33m)\u001b[0m\u001b[1;33m\u001b[0m\u001b[1;33m\u001b[0m\u001b[0m\n\u001b[0m",
      "\u001b[1;32m<ipython-input-6-0a0d2f6e76d4>\u001b[0m in \u001b[0;36msong_recommendation\u001b[1;34m()\u001b[0m\n\u001b[0;32m     14\u001b[0m             \u001b[0mprint\u001b[0m\u001b[1;33m(\u001b[0m\u001b[1;34m\"\\nWe hope you like our recommendation!\"\u001b[0m\u001b[1;33m)\u001b[0m\u001b[1;33m\u001b[0m\u001b[1;33m\u001b[0m\u001b[0m\n\u001b[0;32m     15\u001b[0m \u001b[1;33m\u001b[0m\u001b[0m\n\u001b[1;32m---> 16\u001b[1;33m             \u001b[0mask_again\u001b[0m \u001b[1;33m=\u001b[0m \u001b[0minput\u001b[0m\u001b[1;33m(\u001b[0m\u001b[1;34m\"Would you like another recommendation? Please type 'yes' \"\u001b[0m\u001b[1;33m)\u001b[0m\u001b[1;33m\u001b[0m\u001b[1;33m\u001b[0m\u001b[0m\n\u001b[0m\u001b[0;32m     17\u001b[0m             \u001b[0mask_again\u001b[0m \u001b[1;33m=\u001b[0m \u001b[0mask_again\u001b[0m\u001b[1;33m.\u001b[0m\u001b[0mlower\u001b[0m\u001b[1;33m(\u001b[0m\u001b[1;33m)\u001b[0m\u001b[1;33m\u001b[0m\u001b[1;33m\u001b[0m\u001b[0m\n\u001b[0;32m     18\u001b[0m             \u001b[0mprint\u001b[0m\u001b[1;33m(\u001b[0m\u001b[1;34m\"\"\u001b[0m\u001b[1;33m)\u001b[0m\u001b[1;33m\u001b[0m\u001b[1;33m\u001b[0m\u001b[0m\n",
      "\u001b[1;32m~\\anaconda3\\lib\\site-packages\\ipykernel\\kernelbase.py\u001b[0m in \u001b[0;36mraw_input\u001b[1;34m(self, prompt)\u001b[0m\n\u001b[0;32m    858\u001b[0m                 \u001b[1;34m\"raw_input was called, but this frontend does not support input requests.\"\u001b[0m\u001b[1;33m\u001b[0m\u001b[1;33m\u001b[0m\u001b[0m\n\u001b[0;32m    859\u001b[0m             )\n\u001b[1;32m--> 860\u001b[1;33m         return self._input_request(str(prompt),\n\u001b[0m\u001b[0;32m    861\u001b[0m             \u001b[0mself\u001b[0m\u001b[1;33m.\u001b[0m\u001b[0m_parent_ident\u001b[0m\u001b[1;33m,\u001b[0m\u001b[1;33m\u001b[0m\u001b[1;33m\u001b[0m\u001b[0m\n\u001b[0;32m    862\u001b[0m             \u001b[0mself\u001b[0m\u001b[1;33m.\u001b[0m\u001b[0m_parent_header\u001b[0m\u001b[1;33m,\u001b[0m\u001b[1;33m\u001b[0m\u001b[1;33m\u001b[0m\u001b[0m\n",
      "\u001b[1;32m~\\anaconda3\\lib\\site-packages\\ipykernel\\kernelbase.py\u001b[0m in \u001b[0;36m_input_request\u001b[1;34m(self, prompt, ident, parent, password)\u001b[0m\n\u001b[0;32m    902\u001b[0m             \u001b[1;32mexcept\u001b[0m \u001b[0mKeyboardInterrupt\u001b[0m\u001b[1;33m:\u001b[0m\u001b[1;33m\u001b[0m\u001b[1;33m\u001b[0m\u001b[0m\n\u001b[0;32m    903\u001b[0m                 \u001b[1;31m# re-raise KeyboardInterrupt, to truncate traceback\u001b[0m\u001b[1;33m\u001b[0m\u001b[1;33m\u001b[0m\u001b[1;33m\u001b[0m\u001b[0m\n\u001b[1;32m--> 904\u001b[1;33m                 \u001b[1;32mraise\u001b[0m \u001b[0mKeyboardInterrupt\u001b[0m\u001b[1;33m(\u001b[0m\u001b[1;34m\"Interrupted by user\"\u001b[0m\u001b[1;33m)\u001b[0m \u001b[1;32mfrom\u001b[0m \u001b[1;32mNone\u001b[0m\u001b[1;33m\u001b[0m\u001b[1;33m\u001b[0m\u001b[0m\n\u001b[0m\u001b[0;32m    905\u001b[0m             \u001b[1;32mexcept\u001b[0m \u001b[0mException\u001b[0m \u001b[1;32mas\u001b[0m \u001b[0me\u001b[0m\u001b[1;33m:\u001b[0m\u001b[1;33m\u001b[0m\u001b[1;33m\u001b[0m\u001b[0m\n\u001b[0;32m    906\u001b[0m                 \u001b[0mself\u001b[0m\u001b[1;33m.\u001b[0m\u001b[0mlog\u001b[0m\u001b[1;33m.\u001b[0m\u001b[0mwarning\u001b[0m\u001b[1;33m(\u001b[0m\u001b[1;34m\"Invalid Message:\"\u001b[0m\u001b[1;33m,\u001b[0m \u001b[0mexc_info\u001b[0m\u001b[1;33m=\u001b[0m\u001b[1;32mTrue\u001b[0m\u001b[1;33m)\u001b[0m\u001b[1;33m\u001b[0m\u001b[1;33m\u001b[0m\u001b[0m\n",
      "\u001b[1;31mKeyboardInterrupt\u001b[0m: Interrupted by user"
     ]
    }
   ],
   "source": [
    "song_recommendation()"
   ]
  },
  {
   "cell_type": "code",
   "execution_count": null,
   "metadata": {},
   "outputs": [],
   "source": []
  }
 ],
 "metadata": {
  "kernelspec": {
   "display_name": "Python 3",
   "language": "python",
   "name": "python3"
  },
  "language_info": {
   "codemirror_mode": {
    "name": "ipython",
    "version": 3
   },
   "file_extension": ".py",
   "mimetype": "text/x-python",
   "name": "python",
   "nbconvert_exporter": "python",
   "pygments_lexer": "ipython3",
   "version": "3.8.5"
  }
 },
 "nbformat": 4,
 "nbformat_minor": 4
}
