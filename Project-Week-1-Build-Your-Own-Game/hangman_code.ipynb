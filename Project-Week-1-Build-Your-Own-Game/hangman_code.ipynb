{
 "cells": [
  {
   "cell_type": "code",
   "execution_count": 2,
   "metadata": {},
   "outputs": [],
   "source": [
    "import random"
   ]
  },
  {
   "cell_type": "code",
   "execution_count": 3,
   "metadata": {},
   "outputs": [],
   "source": [
    "word_list = [\"tree\", \"flower\", \"car\", \"hobbies\", \"football\", \"palm\", \"picture\", \n",
    "             \"picture\", \"python\", \"data\", \"bootcamp\", \"ironhack\", \"computer\", \"berlin\", \"london\"]"
   ]
  },
  {
   "cell_type": "code",
   "execution_count": 4,
   "metadata": {},
   "outputs": [
    {
     "name": "stdout",
     "output_type": "stream",
     "text": [
      "football\n"
     ]
    }
   ],
   "source": [
    "random_word = random.choice(word_list)\n",
    "word_len = len(random_word)    \n",
    "underscore = ['_ '] * len(random_word)\n",
    "guessed_correct_letters = []\n",
    "guessed_letters = []\n",
    "random_word_set = set(random_word)\n",
    "set_guessed_letters = set()\n",
    "life = 5\n",
    "\n",
    "print(random_word)\n"
   ]
  },
  {
   "cell_type": "code",
   "execution_count": 5,
   "metadata": {},
   "outputs": [
    {
     "name": "stdout",
     "output_type": "stream",
     "text": [
      "Let's play Hangman: \n",
      "\n",
      "\n",
      "You have 5 lives. The word is 8 letters long: _ _ _ _ _ _ _ _ \n",
      "\n",
      "What letter do you want to guess? l\n",
      "\n",
      "Well Done! l is in the word\n",
      "\n",
      "_  _  _  _  _  _  l l \n",
      "\n",
      "\n",
      "What letter do you want to guess? n\n",
      "\n",
      "n is not in this word... you have 4 lives left\n",
      "\n",
      "What letter do you want to guess? m\n",
      "\n",
      "m is not in this word... you have 3 lives left\n",
      "\n",
      "What letter do you want to guess? q\n",
      "\n",
      "q is not in this word... you have 2 lives left\n",
      "\n",
      "What letter do you want to guess? y\n",
      "\n",
      "y is not in this word... you have 1 lives left\n",
      "\n",
      "What letter do you want to guess? x\n",
      "\n",
      "x is not in this word... you have 0 lives left\n",
      "\n",
      "You are out of lives...Game over :'(\n"
     ]
    }
   ],
   "source": [
    "print(\"Let's play Hangman: \\n\\n\")\n",
    "\n",
    "print(\"You have 5 lives. The word is\", word_len, \"letters long:\", \"_ \"*len(random_word))\n",
    "\n",
    "\n",
    "def print_underscore():\n",
    "    print(\"\")\n",
    "    print(''.join([x+\" \" for x in underscore]))\n",
    "    print(\"\")\n",
    "\n",
    "win = False\n",
    "    \n",
    "while life > 0 and win == False :\n",
    "    print(\"\")\n",
    "    user_input_pre = input(\"What letter do you want to guess? \")\n",
    "    \n",
    "    if  user_input_pre.isdigit():\n",
    "        print(\"\\n{} is not a letter!\".format(user_input_pre))\n",
    "        continue\n",
    "        \n",
    "    user_input = user_input_pre.lower() #turn input into lower in case it's a capital letter\n",
    "    \n",
    "    if user_input in guessed_letters: #not only correct guessed letters, otherwise it doesnt recognize wrong duplicates\n",
    "        print(\"\\nYou've already tried the letter {}!\".format(user_input))\n",
    "        continue\n",
    "    \n",
    "    guessed_letters.append(user_input) #keep track of letters guessed    \n",
    "        \n",
    "    if user_input in random_word:\n",
    "      \n",
    "        for i, x in enumerate(random_word):\n",
    "            if x == user_input:\n",
    "                underscore[i] = user_input       \n",
    "      \n",
    "        print(\"\\nWell Done! {} is in the word\".format(user_input))\n",
    "        print_underscore()\n",
    "        guessed_correct_letters.append(user_input)\n",
    "        set_guessed_letters = set(guessed_letters)\n",
    "        if len(random_word_set.difference(set_guessed_letters)) == 0:\n",
    "            print(\"Yay! You won. The word was {}\".format(random_word))\n",
    "            win = True\n",
    "                        \n",
    "    else: \n",
    "        \n",
    "        life -= 1\n",
    "        \n",
    "        print(\"\")\n",
    "        print(user_input,\"is not in this word... you have\", life, \"lives left\")\n",
    "        \n",
    "        if life == 0:\n",
    "            print(\"\")\n",
    "            print(\"You are out of lives...Game over :'(\")"
   ]
  },
  {
   "cell_type": "code",
   "execution_count": null,
   "metadata": {},
   "outputs": [],
   "source": []
  }
 ],
 "metadata": {
  "kernelspec": {
   "display_name": "Python 3",
   "language": "python",
   "name": "python3"
  },
  "language_info": {
   "codemirror_mode": {
    "name": "ipython",
    "version": 3
   },
   "file_extension": ".py",
   "mimetype": "text/x-python",
   "name": "python",
   "nbconvert_exporter": "python",
   "pygments_lexer": "ipython3",
   "version": "3.8.5"
  }
 },
 "nbformat": 4,
 "nbformat_minor": 4
}
