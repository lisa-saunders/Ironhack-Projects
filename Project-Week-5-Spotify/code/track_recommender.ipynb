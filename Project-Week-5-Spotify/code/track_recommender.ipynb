{
 "cells": [
  {
   "cell_type": "markdown",
   "metadata": {},
   "source": [
    "**Recommend from Top 100 and from Spotify clusters**"
   ]
  },
  {
   "cell_type": "code",
   "execution_count": 9,
   "metadata": {},
   "outputs": [],
   "source": [
    "import pandas as pd\n",
    "import random\n",
    "import numpy as np"
   ]
  },
  {
   "cell_type": "code",
   "execution_count": 10,
   "metadata": {},
   "outputs": [],
   "source": [
    "top100_df = pd.read_csv(\"../data/top100_df.csv\")\n",
    "spotify_df = pd.read_csv(\"../data/clusters_df.csv\")"
   ]
  },
  {
   "cell_type": "code",
   "execution_count": 11,
   "metadata": {},
   "outputs": [],
   "source": [
    "top100_df = top100_df.apply(lambda x: x.astype(str).str.lower()) #turning dataframes to lower case\n",
    "spotify_df = spotify_df.apply(lambda x: x.astype(str).str.lower())"
   ]
  },
  {
   "cell_type": "code",
   "execution_count": 12,
   "metadata": {},
   "outputs": [],
   "source": [
    "def song_recommendation():\n",
    "\n",
    "    while True:\n",
    "        user_input = input(\"What is the name of your favourite song? \")\n",
    "        user_input = user_input.lower()\n",
    "        \n",
    "        if user_input in top100_df.values:\n",
    "            top100_df.drop(top100_df.loc[top100_df['song_title'] == user_input].index, inplace=True)\n",
    "            song_choice = random.choice(top100_df['song_title'])\n",
    "            suggestion = top100_df.loc[top100_df['song_title'] == song_choice]\n",
    "            artist = (suggestion.loc[suggestion.song_title == song_choice, 'artist'].values[0])\n",
    "            print(\"\\nMaybe you will like:\", song_choice.title(),\n",
    "                  \" by \", artist.title())\n",
    "            print(\"\\nWe hope you like our recommendation!\")\n",
    "            break\n",
    "        \n",
    "        elif user_input in spotify_df.values:\n",
    "            cluster_number = int(spotify_df['cluster'].loc[spotify_df['song_name'] == user_input])\n",
    "            df_float = spotify_df[spotify_df['cluster'] == str(cluster_number)]\n",
    "            song_choice = random.choice(df_float['song_name'].tolist())\n",
    "            suggestion = df_float.loc[spotify_df['song_name'] == song_choice]\n",
    "            artist = (suggestion.loc[suggestion.song_name == song_choice, 'artist_name'].values[0])\n",
    "            print(\"\\nMaybe you will like:\", song_choice.title(),\n",
    "                  \" by \", artist.title())\n",
    "            print(\"\\nWe hope you like our recommendation!\")\n",
    "            break\n",
    "        \n",
    "        else:\n",
    "            print(\"\\nSorry, we do not know\", user_input.title(),\"! Please try again: \\n\")\n"
   ]
  },
  {
   "cell_type": "code",
   "execution_count": 13,
   "metadata": {},
   "outputs": [
    {
     "name": "stdout",
     "output_type": "stream",
     "text": [
      "What is the name of your favourite song? holocene\n",
      "\n",
      "Maybe you will like: We'Ll Meet Again  by  Vera Lynn \n",
      "\n",
      "We hope you like our recommendation!\n"
     ]
    }
   ],
   "source": [
    "song_recommendation()"
   ]
  }
 ],
 "metadata": {
  "kernelspec": {
   "display_name": "Python 3",
   "language": "python",
   "name": "python3"
  },
  "language_info": {
   "codemirror_mode": {
    "name": "ipython",
    "version": 3
   },
   "file_extension": ".py",
   "mimetype": "text/x-python",
   "name": "python",
   "nbconvert_exporter": "python",
   "pygments_lexer": "ipython3",
   "version": "3.8.5"
  }
 },
 "nbformat": 4,
 "nbformat_minor": 4
}
